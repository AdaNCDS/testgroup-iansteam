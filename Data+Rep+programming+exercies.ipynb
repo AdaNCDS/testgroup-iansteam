{
 "cells": [
  {
   "cell_type": "markdown",
   "metadata": {},
   "source": [
    "# How data is represented by computer systems\n",
    "\n",
    "An exploratory guide "
   ]
  },
  {
   "cell_type": "markdown",
   "metadata": {},
   "source": [
    "## The Binary Number System\n",
    "\n",
    "** recap **: explain the basics of the binary number system and how to convert to/from binary from/to decimal. \n",
    "\n",
    "Use the terms:\n",
    "\n",
    "1.Base (of a number system)\n",
    "\n",
    "2.Digits\n",
    "\n",
    "3.place value\n",
    "\n",
    "4.Most significant bit (MSB), Least significant bit (LSB)\n",
    "\n",
    "\n",
    "\n",
    "\n",
    "### Task 1: Write a program that converts an 8-bit binary number into its decimal equivalent\n",
    "\n",
    "**Step 1**: loop through the binary \"number\" (its atually not a number but a string - why?)\n",
    "\n",
    "** question 1 ** what direction (l->r) (r->l) are we stepping through the number?\n",
    "\n",
    "What bearing does this have on our solution?\n",
    "\n",
    "\n",
    "** question 2 ** What are we doing at each step of the loop?\n",
    "\n",
    "What bearing does this have on our solution?\n",
    "\n",
    "** Now code the solution: **"
   ]
  },
  {
   "cell_type": "code",
   "execution_count": 40,
   "metadata": {
    "collapsed": true
   },
   "outputs": [],
   "source": [
    "#your binary converter function here\n",
    "#remember, you already have the variable number from the code above\n",
    "def convertFromBinary(binNum):\n",
    "    decimalResult = 0\n",
    "    \n",
    "    return decimalResult\n"
   ]
  },
  {
   "cell_type": "code",
   "execution_count": 39,
   "metadata": {},
   "outputs": [
    {
     "data": {
      "text/plain": [
       "0"
      ]
     },
     "execution_count": 39,
     "metadata": {},
     "output_type": "execute_result"
    }
   ],
   "source": [
    "convertFromBinary(\"10001100\")"
   ]
  },
  {
   "cell_type": "markdown",
   "metadata": {},
   "source": [
    "### Task 2 - Write a program that converts a decimal number into its equivalent binary string\n",
    "\n",
    "Use the pseudocode to guide you (** note ** one line of pseudocode does not = 1 line of code)"
   ]
  },
  {
   "cell_type": "code",
   "execution_count": 15,
   "metadata": {
    "collapsed": true
   },
   "outputs": [],
   "source": [
    "#user inputs a devimal number (it must be positive)\n",
    "#initialse a string that will hold the number as a binary string - eg 16 -> \"00000100\"\n",
    "#divide the users decimal number by 2\n",
    "#if the remainder is 0 then add a \"0\" to the binary string\n",
    "#if the remainder is a 1 then add a \"1\" to the binary string\n",
    "#save the number divided by 2 as the new number\n",
    "#repeat this until the number is 0\n",
    "\n",
    "def convertFromDecimal(n):\n",
    "    binaryResult =\"\"\n",
    "    \n",
    "    #do your magic here\n",
    "    \n",
    "    return binaryResult\n"
   ]
  },
  {
   "cell_type": "code",
   "execution_count": 16,
   "metadata": {},
   "outputs": [
    {
     "data": {
      "text/plain": [
       "''"
      ]
     },
     "execution_count": 16,
     "metadata": {},
     "output_type": "execute_result"
    }
   ],
   "source": [
    "convertFromDecimal(22)"
   ]
  },
  {
   "cell_type": "markdown",
   "metadata": {},
   "source": [
    "# Binary Coded Decimal\n",
    "\n",
    "In computing and electronic systems, binary-coded decimal (BCD) is a class of binary encodings of decimal numbers where each decimal digit is represented by a fixed number of bits, usually four or eight. Special bit patterns are sometimes used for a sign or for other indications (e.g., error or overflow).\n",
    "\n",
    "BCD takes advantage of the fact that any one decimal numeral can be represented by a four bit pattern. The most obvious way of encoding digits is \"natural BCD\" (NBCD), where each decimal digit is represented by its corresponding four-bit binary value, as shown in the following table. This is also called \"8421\" encoding.\n",
    "\n",
    "As most computers deal with data in 8-bit bytes, it is possible to use one of the following methods to encode a BCD number:\n",
    "\n",
    "** Unpacked **: Each numeral is encoded into one byte, with four bits representing the numeral and the remaining bits having no significance.\n",
    "\n",
    " Decimal:          9          1\n",
    " \n",
    " Binary :  0000 1001  0000 0001\n",
    "\n",
    "** Packed **: Two numerals are encoded into a single byte, with one numeral in the least significant nibble (bits 0 through 3) and the other numeral in the most significant nibble (bits 4 through 7).\n",
    "\n",
    "Decimal:     9    1\n",
    "\n",
    "Binary :  1001 0001\n",
    "\n",
    "https://en.wikipedia.org/wiki/Binary-coded_decimal\n"
   ]
  },
  {
   "cell_type": "markdown",
   "metadata": {},
   "source": [
    "## Task 3: The following program takes a decimal number and converts into packed BCD"
   ]
  },
  {
   "cell_type": "code",
   "execution_count": 15,
   "metadata": {},
   "outputs": [],
   "source": [
    "def convertToBCD(num):\n",
    "    bcd = ['0000','0001','0010','0011','0100','0101','0110','0111','1000','1001']\n",
    "    bcdResult=\"\"\n",
    "    for digit in num:\n",
    "        if digit ==\"0\" :\n",
    "            bcdResult+=bcd[0]\n",
    "        elif digit == \"1\":\n",
    "            bcdResult+=bcd[1]\n",
    "        elif digit == \"2\":\n",
    "            bcdResult+=bcd[2]\n",
    "        elif digit == \"3\":\n",
    "            bcdResult+=bcd[3]\n",
    "        elif digit == \"4\":\n",
    "            bcdResult+=bcd[4]\n",
    "        elif digit == \"5\":\n",
    "            bcdResult+=bcd[5]\n",
    "        elif digit == \"6\":\n",
    "            bcdResult+=bcd[6]\n",
    "        elif digit == \"7\":\n",
    "            bcdResult+=bcd[7]\n",
    "        elif digit == \"8\":\n",
    "            bcdResult+=bcd[8]\n",
    "        elif digit == \"9\":\n",
    "            bcdResult+=bcd[9]\n",
    "        else:\n",
    "            bcdResult+=\"error\"\n",
    "        \n",
    "    return  bcdResult"
   ]
  },
  {
   "cell_type": "code",
   "execution_count": 41,
   "metadata": {},
   "outputs": [
    {
     "data": {
      "text/plain": [
       "'01010110'"
      ]
     },
     "execution_count": 41,
     "metadata": {},
     "output_type": "execute_result"
    }
   ],
   "source": [
    "convertToBCD(\"56\")"
   ]
  },
  {
   "cell_type": "markdown",
   "metadata": {},
   "source": [
    "## Task  4 ##\n",
    "\n",
    "Can you write a more efficient program? Maybe where the entire if statement structure is collapsed into **ONE** line of code?\n"
   ]
  },
  {
   "cell_type": "code",
   "execution_count": 20,
   "metadata": {},
   "outputs": [],
   "source": [
    "def quickConvertToBCD(num):\n",
    "    bcdResult=\"\"\n",
    "    for digit in num:\n",
    "        #do your stuff here\n",
    "        #for now I'll just record the digit itself\n",
    "        bcdResult+=digit\n",
    "\n",
    "    return bcdResult"
   ]
  },
  {
   "cell_type": "code",
   "execution_count": 21,
   "metadata": {},
   "outputs": [
    {
     "data": {
      "text/plain": [
       "'73'"
      ]
     },
     "execution_count": 21,
     "metadata": {},
     "output_type": "execute_result"
    }
   ],
   "source": [
    "quickConvertToBCD(\"73\")"
   ]
  },
  {
   "cell_type": "markdown",
   "metadata": {},
   "source": [
    "# The use of binary arithmetic #\n",
    "\n",
    "The use of binary arithmetic (including BCD) to perform calculations: addition, subtraction,\n",
    "multiplication and division\n",
    "\n",
    "## Task 5 ##\n",
    "\n",
    "Write code that will add two 8-bit binary numbers and give an indication when overflow occurs"
   ]
  },
  {
   "cell_type": "code",
   "execution_count": 22,
   "metadata": {},
   "outputs": [],
   "source": [
    "# function to add binary numbers has 2 parameters - values/variables that must be passed into the function when called\n",
    "def addBinary(bnumber1,bnumber2):\n",
    "    #local variables\n",
    "    ovflw = False #assume we don't have overflow\n",
    "    result = \"\"\n",
    "    \n",
    "    #do your magic here\n",
    "    \n",
    "    return result, ovflw"
   ]
  },
  {
   "cell_type": "code",
   "execution_count": 28,
   "metadata": {},
   "outputs": [
    {
     "name": "stdout",
     "output_type": "stream",
     "text": [
      "result=  \n"
     ]
    }
   ],
   "source": [
    "result,overflow = addBinary (\"1010\",\"0011\")\n",
    "if overflow:\n",
    "    print(\"OVERFLOW\")\n",
    "else:\n",
    "    print(\"result= \",result)"
   ]
  },
  {
   "cell_type": "markdown",
   "metadata": {},
   "source": [
    "## Task 6 ##\n",
    "\n",
    "Write code that will add 2 BCD numbers\n",
    "(http://www2.elo.utfsm.cl/~lsb/elo211/aplicaciones/katz/chapter5/chapter05.doc4.html)\n",
    "\n",
    "### Explanation ###\n",
    "\n",
    "The decimal digits 0 through 9 are represented by the 4-bit binary strings 0000 through 1001. The remaining 4-bit encodings, 1010 through 1111, are treated as **don't cares**\n",
    "\n",
    "Just as in conventional decimal addition, BCD addition is performed one decimal digit at a time. \n",
    "\n",
    "\n",
    "The question is, ** what happens when the sum exceeds what can be represented in 4 bits?** \n",
    "\n",
    "Stated differently, what are the conditions under which a carry is generated to the next highest-order BCD digit?\n",
    "\n",
    "For example, let's consider the addition of the two BCD digits 5 and 3:\n",
    "\n",
    "5 = 0101\n",
    "3 = 0011\n",
    "added=\n",
    "8 = 0111\n",
    "\n",
    "** no problems **\n",
    "\n",
    "What about 5 + 8:\n",
    "\n",
    "5= 0101\n",
    "8= 1000\n",
    "added=\n",
    "13 = 1101 - this is a **don't care**\n",
    "\n",
    "This result should be correctly represented as 0001 0011 in BCD notation. \n",
    "\n",
    "Fortunately, there is a simple way to find the correct result. ** We add 6 (0110) to the digit sum if it exceeds 9 **\n",
    "Let's examine the following cases:\n",
    "\n",
    "| Example 1: 5 +8        | Example 2: 9 + 7     \n",
    "|------------------------|--------------------|\n",
    "| 5= 0101                |  9 =                | \n",
    "| 8= 1000                |  7=                  |\n",
    "| added=                 |  added =             |\n",
    "| 13 = 1101              |  15 =               | \n",
    "| > 9                    |  >9                  |\n",
    "| so +6 = 0110           |  so +6 =             |\n",
    "| = 1101 + 0110          |  =                    |\n",
    "| 13 in BCD = 1 0011     |  15 in BCD = 1 0101  |\n",
    "\n",
    "\n",
    "In both cases, by ** adding six ** (WHY??) we obtain the correct answer in BCD. This observation is critical to the design of a BCD adder"
   ]
  },
  {
   "cell_type": "code",
   "execution_count": 30,
   "metadata": {
    "collapsed": true
   },
   "outputs": [],
   "source": [
    "#your code for a BCD packed adder here...\n",
    "def bcdAdder(n1,n2):\n",
    "    result=\"\"\n",
    "    \n",
    "    #do your magic here\n",
    "    \n",
    "    return result\n"
   ]
  },
  {
   "cell_type": "code",
   "execution_count": 31,
   "metadata": {},
   "outputs": [
    {
     "data": {
      "text/plain": [
       "''"
      ]
     },
     "execution_count": 31,
     "metadata": {},
     "output_type": "execute_result"
    }
   ],
   "source": [
    "bcdAdder(\"0101\",\"1000\")"
   ]
  },
  {
   "cell_type": "markdown",
   "metadata": {},
   "source": [
    "## Task 7 ##\n",
    "\n",
    "Now write functions that will perform ** multiplication ** on one-byte binary numbers\n"
   ]
  },
  {
   "cell_type": "code",
   "execution_count": 32,
   "metadata": {
    "collapsed": true
   },
   "outputs": [],
   "source": [
    "#binary multiplication function\n",
    "def multBinary(bnumber1,bnumber2):\n",
    "    #local variables\n",
    "    ovflw = False #assume we don't have overflow\n",
    "    result = \"\"\n",
    "    \n",
    "    return result, ovflw"
   ]
  },
  {
   "cell_type": "code",
   "execution_count": 33,
   "metadata": {},
   "outputs": [
    {
     "name": "stdout",
     "output_type": "stream",
     "text": [
      "The result is:  \n"
     ]
    }
   ],
   "source": [
    "result,overflow = multBinary (\"1010111\", \"00000001\")\n",
    "\n",
    "if overflow:\n",
    "    print(\"The result is: \", result, \" with overflow\")\n",
    "else:\n",
    "    print(\"The result is: \", result)"
   ]
  },
  {
   "cell_type": "markdown",
   "metadata": {},
   "source": [
    "## Representing negative numbers in binary - 2s complement ##\n",
    "\n",
    "https://www.cs.cornell.edu/~tomf/notes/cps104/twoscomp.html\n",
    "\n",
    "Two's complement is the way  computers  represent integers (positive and negative numbers). \n",
    "\n",
    "To get the two's complement negative notation of an integer:\n",
    "\n",
    "1.write out the number in binary. \n",
    "2.You then complement (invert) the digits, and \n",
    "3.add one to the result\n",
    "\n",
    "### Example - converting -28 into 2s complement ###\n",
    "\n",
    "Suppose we're working with 8 bit quantities  and suppose we want to find how **-28** would be expressed in two's complement notation. \n",
    "\n",
    "1.First we write out 28 in binary form. 28=00011100\n",
    "\n",
    "2.Then we complement/invert the digits. 0 becomes 1, 1 becomes 0 =11100011\n",
    "\n",
    "3.Then we add 1. **This is the step most people forget!**  So the answer is =11100100\n",
    "\n",
    "That is how one would write -28 in 8 bit binary. Simples!\n",
    "\n",
    "**NOTE** - a postive number in 2s complement just needs step 1\n"
   ]
  },
  {
   "cell_type": "code",
   "execution_count": 34,
   "metadata": {},
   "outputs": [],
   "source": [
    "def twosComp(num):\n",
    "    result=''\n",
    "    \n",
    "    #do your magic here\n",
    "    \n",
    "    return result"
   ]
  },
  {
   "cell_type": "code",
   "execution_count": 36,
   "metadata": {},
   "outputs": [
    {
     "name": "stdout",
     "output_type": "stream",
     "text": [
      "-28  in 2s complements =  \n"
     ]
    }
   ],
   "source": [
    "integer=-28\n",
    "result = twosComp(integer)\n",
    "print(integer, ' in 2s complements = ', result)"
   ]
  }
 ],
 "metadata": {
  "kernelspec": {
   "display_name": "Python 3",
   "language": "python",
   "name": "python3"
  },
  "language_info": {
   "codemirror_mode": {
    "name": "ipython",
    "version": 3
   },
   "file_extension": ".py",
   "mimetype": "text/x-python",
   "name": "python",
   "nbconvert_exporter": "python",
   "pygments_lexer": "ipython3",
   "version": "3.5.2"
  }
 },
 "nbformat": 4,
 "nbformat_minor": 2
}
